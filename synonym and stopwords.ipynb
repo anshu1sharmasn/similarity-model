{
 "cells": [
  {
   "cell_type": "code",
   "execution_count": 1,
   "metadata": {},
   "outputs": [],
   "source": [
    "#####stop words code \n",
    "\n",
    "import nltk\n",
    "from nltk.corpus import stopwords\n",
    "from nltk.tokenize import word_tokenize\n",
    "def download_nltk_data():\n",
    "    try:\n",
    "        nltk.data.find('tokenizers/punkt')\n",
    "    except LookupError:\n",
    "        nltk.download('punkt')\n",
    "    try:\n",
    "        nltk.data.find('corpora/stopwords')\n",
    "    except LookupError:\n",
    "        nltk.download('stopwords')\n",
    "        \n",
    "def remove_stop_words(query, stopword_document_path):\n",
    "    download_nltk_data()\n",
    "\n",
    "    with open(stopword_document_path, 'r') as file:\n",
    "        stopword_data = file.read()\n",
    "        \n",
    "\n",
    "    stop_words = word_tokenize(stopword_data)\n",
    "\n",
    "    query_words = word_tokenize(query.lower())\n",
    "\n",
    "    filtered_query = [word for word in query_words if word not in stop_words]\n",
    "\n",
    "    return \" \".join(filtered_query)\n",
    "\n",
    "def takeInput():\n",
    "    query = input(\"Enter the query: \")\n",
    "    stopword_document_path = \"/Users/anshu.sharma1/try/stopwords.txt\"  \n",
    "\n",
    "    try:\n",
    "        filtered_query = remove_stop_words(query, stopword_document_path)\n",
    "        print(f\"Filtered query: {filtered_query}\")\n",
    "    except Exception as e:\n",
    "        print(\"An error occurred:\", e)\n"
   ]
  },
  {
   "cell_type": "code",
   "execution_count": 12,
   "metadata": {},
   "outputs": [
    {
     "name": "stdout",
     "output_type": "stream",
     "text": [
      "Filtered query: rsa token\n",
      "None\n"
     ]
    }
   ],
   "source": [
    "print(takeInput())"
   ]
  },
  {
   "cell_type": "code",
   "execution_count": 3,
   "metadata": {},
   "outputs": [],
   "source": [
    "#### code to substitute synonyms \n",
    "\n",
    "import pandas as pd\n",
    "import numpy as np\n",
    "sdf=pd.read_csv(\"/Users/anshu.sharma1/try/synonymns.csv\")\n"
   ]
  },
  {
   "cell_type": "code",
   "execution_count": 4,
   "metadata": {},
   "outputs": [],
   "source": [
    "#preprocessing the data \n",
    "data_rows=[]\n",
    "columns=['Term','Payload']\n",
    "newdf=pd.DataFrame(columns=columns)\n",
    "for index in sdf.index:\n",
    "    #print(sdf.loc[index, 'Term'])\n",
    "    x=sdf.loc[index,'Payload']\n",
    "    x=x.replace(\"[\",\"\").replace(\"]\",\"\")\n",
    "    l=x.split(\",\")\n",
    "    # print(l)\n",
    "    fl=[]\n",
    "    for val in l:\n",
    "        # print(val.replace('\"',''))\n",
    "        fl.append(val.replace('\"',''))\n",
    "    # print(fl)\n",
    "    payload=sdf.loc[index,'Payload']\n",
    "    term=sdf.loc[index,'Term']\n",
    "    data_row1 = {'Term': term, 'Payload': fl}\n",
    "    data_rows.append(data_row1)\n",
    "newdf=pd.concat([newdf,pd.DataFrame(data_rows)])"
   ]
  },
  {
   "cell_type": "code",
   "execution_count": 5,
   "metadata": {},
   "outputs": [],
   "source": [
    "#creating a dataframe to store name and replacing words\n",
    "columns=['Name','Replace']\n",
    "dfnm=pd.DataFrame(columns=columns)"
   ]
  },
  {
   "cell_type": "code",
   "execution_count": 6,
   "metadata": {},
   "outputs": [],
   "source": [
    "#created the new dataframe after separating name and replacing words\n",
    "df_rows=[]\n",
    "for index in newdf.index:\n",
    "    t=newdf.loc[index,'Term']\n",
    "    p=newdf.loc[index,'Payload']\n",
    "    data_rows=[]\n",
    "    for val in p:\n",
    "        data_row1 = {'Name': val, 'Replace': t}\n",
    "        data_rows.append(data_row1)\n",
    "    dfnm=pd.concat([dfnm,pd.DataFrame(data_rows)])\n"
   ]
  },
  {
   "cell_type": "code",
   "execution_count": 7,
   "metadata": {},
   "outputs": [],
   "source": [
    "## remove those queries with same word in name as well as column f\n",
    "cond=dfnm['Name']==dfnm['Replace']\n",
    "dfnm=dfnm[~cond]\n"
   ]
  },
  {
   "cell_type": "code",
   "execution_count": 15,
   "metadata": {},
   "outputs": [
    {
     "name": "stdout",
     "output_type": "stream",
     "text": [
      "hihop request \n"
     ]
    }
   ],
   "source": [
    "#check for synonymns\n",
    "filtered_query=\"hihop access\"\n",
    "query_list=filtered_query.split(' ')\n",
    "new_query=\"\"\n",
    "for word in query_list:\n",
    "    # check if word exists\n",
    "    if dfnm['Name'].isin([word]).any():\n",
    "        # idx=dfnm.loc[dfnm['Name']==word]\n",
    "        idx = dfnm['Name'] == word\n",
    "        # print(idx)\n",
    "        rep=dfnm.loc[idx,'Replace'].values[0]\n",
    "        new_query=new_query+rep+\" \"\n",
    "    \n",
    "    else:\n",
    "        new_query=new_query+word+\" \"\n",
    "       \n",
    "print(new_query)\n",
    "    \n"
   ]
  },
  {
   "cell_type": "code",
   "execution_count": null,
   "metadata": {},
   "outputs": [],
   "source": []
  },
  {
   "cell_type": "code",
   "execution_count": null,
   "metadata": {},
   "outputs": [],
   "source": []
  },
  {
   "cell_type": "code",
   "execution_count": null,
   "metadata": {},
   "outputs": [],
   "source": []
  },
  {
   "cell_type": "code",
   "execution_count": null,
   "metadata": {},
   "outputs": [],
   "source": []
  },
  {
   "cell_type": "code",
   "execution_count": 184,
   "metadata": {},
   "outputs": [
    {
     "data": {
      "text/html": [
       "<div>\n",
       "<style scoped>\n",
       "    .dataframe tbody tr th:only-of-type {\n",
       "        vertical-align: middle;\n",
       "    }\n",
       "\n",
       "    .dataframe tbody tr th {\n",
       "        vertical-align: top;\n",
       "    }\n",
       "\n",
       "    .dataframe thead th {\n",
       "        text-align: right;\n",
       "    }\n",
       "</style>\n",
       "<table border=\"1\" class=\"dataframe\">\n",
       "  <thead>\n",
       "    <tr style=\"text-align: right;\">\n",
       "      <th></th>\n",
       "      <th>Name</th>\n",
       "      <th>Replace</th>\n",
       "    </tr>\n",
       "  </thead>\n",
       "  <tbody>\n",
       "    <tr>\n",
       "      <th>0</th>\n",
       "      <td>1095c</td>\n",
       "      <td>1095c</td>\n",
       "    </tr>\n",
       "    <tr>\n",
       "      <th>1</th>\n",
       "      <td>1095 c</td>\n",
       "      <td>1095c</td>\n",
       "    </tr>\n",
       "    <tr>\n",
       "      <th>2</th>\n",
       "      <td>1095-c</td>\n",
       "      <td>1095c</td>\n",
       "    </tr>\n",
       "    <tr>\n",
       "      <th>0</th>\n",
       "      <td>401k</td>\n",
       "      <td>401k</td>\n",
       "    </tr>\n",
       "    <tr>\n",
       "      <th>1</th>\n",
       "      <td>401 k</td>\n",
       "      <td>401k</td>\n",
       "    </tr>\n",
       "  </tbody>\n",
       "</table>\n",
       "</div>"
      ],
      "text/plain": [
       "     Name Replace\n",
       "0   1095c   1095c\n",
       "1  1095 c   1095c\n",
       "2  1095-c   1095c\n",
       "0    401k    401k\n",
       "1   401 k    401k"
      ]
     },
     "execution_count": 184,
     "metadata": {},
     "output_type": "execute_result"
    }
   ],
   "source": []
  },
  {
   "cell_type": "code",
   "execution_count": null,
   "metadata": {},
   "outputs": [],
   "source": []
  }
 ],
 "metadata": {
  "kernelspec": {
   "display_name": "Python 3",
   "language": "python",
   "name": "python3"
  },
  "language_info": {
   "codemirror_mode": {
    "name": "ipython",
    "version": 3
   },
   "file_extension": ".py",
   "mimetype": "text/x-python",
   "name": "python",
   "nbconvert_exporter": "python",
   "pygments_lexer": "ipython3",
   "version": "3.9.6"
  },
  "orig_nbformat": 4
 },
 "nbformat": 4,
 "nbformat_minor": 2
}
