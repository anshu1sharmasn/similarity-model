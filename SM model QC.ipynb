{
 "cells": [
  {
   "cell_type": "code",
   "execution_count": 72,
   "metadata": {},
   "outputs": [],
   "source": [
    "import numpy as np\n",
    "import pandas as pd\n",
    "import nltk\n",
    "from nltk.corpus import stopwords\n",
    "from sklearn.feature_extraction.text import TfidfVectorizer\n",
    "from sklearn.metrics.pairwise import cosine_similarity\n",
    "\n",
    "#import for stop words \n",
    "from nltk.tokenize import word_tokenize"
   ]
  },
  {
   "cell_type": "code",
   "execution_count": 73,
   "metadata": {},
   "outputs": [],
   "source": [
    "## removing stop words Helper functions\n",
    "def download_nltk_data():\n",
    "    try:\n",
    "        nltk.data.find('tokenizers/punkt')\n",
    "    except LookupError:\n",
    "        nltk.download('punkt')\n",
    "    try:\n",
    "        nltk.data.find('corpora/stopwords')\n",
    "    except LookupError:\n",
    "        nltk.download('stopwords')\n",
    "    \n",
    "def remove_stop_words(query, stopword_document_path):\n",
    "    download_nltk_data()\n",
    "\n",
    "    with open(stopword_document_path, 'r') as file:\n",
    "        stopword_data = file.read()\n",
    "        \n",
    "\n",
    "    stop_words = word_tokenize(stopword_data)\n",
    "\n",
    "    query_words = word_tokenize(query.lower())\n",
    "\n",
    "    filtered_query = [word for word in query_words if word not in stop_words]\n",
    "\n",
    "    return \" \".join(filtered_query)"
   ]
  },
  {
   "cell_type": "code",
   "execution_count": 74,
   "metadata": {},
   "outputs": [
    {
     "name": "stderr",
     "output_type": "stream",
     "text": [
      "[nltk_data] Downloading package stopwords to\n",
      "[nltk_data]     /Users/anshu.sharma1/nltk_data...\n",
      "[nltk_data]   Package stopwords is already up-to-date!\n"
     ]
    }
   ],
   "source": [
    "nltk.download('stopwords')\n",
    "df = pd.read_csv(\"your file.csv")\n",
    "df1 = pd.read_csv(\"your file.csv")"
   ]
  },
  {
   "cell_type": "code",
   "execution_count": 75,
   "metadata": {},
   "outputs": [],
   "source": [
    "def TakeInput():\n",
    "    input_sentence = input(\"enter the sentence:\")\n",
    "    stopword_document_path = \"/Users/anshu.sharma1/try/stopwords.txt\"  \n",
    "\n",
    "    try:\n",
    "        filtered_query = remove_stop_words(input_sentence, stopword_document_path)\n",
    "        print(f\"Filtered query: {filtered_query}\")\n",
    "    except Exception as e:\n",
    "        print(\"An error occurred:\", e)\n",
    "    return input_sentence"
   ]
  },
  {
   "cell_type": "code",
   "execution_count": 76,
   "metadata": {},
   "outputs": [],
   "source": [
    "def contextSimilarity(input_sentence, threshold=0.5):\n",
    "    vectorizer = TfidfVectorizer()\n",
    "    vectors = vectorizer.fit_transform(df[\"context\"])\n",
    "    \n",
    "    sentence_vector = vectorizer.transform([input_sentence])\n",
    "    similarity_scores = cosine_similarity(sentence_vector, vectors)[0]\n",
    "\n",
    "    similar_indices = np.argwhere(similarity_scores > threshold).flatten()\n",
    "    \n",
    "    if len(similar_indices) == 0:\n",
    "        return None, None, None, None\n",
    "    \n",
    "    most_similar_index = similar_indices[np.argmax(similarity_scores[similar_indices])]\n",
    "    most_similar_context = df.loc[most_similar_index, \"context\"]\n",
    "    kb_article = df.loc[most_similar_index, \"Context Source Ids\"]\n",
    "    similarity_score = similarity_scores[most_similar_index]\n",
    "    \n",
    "    return similarity_score, most_similar_context, most_similar_index, kb_article"
   ]
  },
  {
   "cell_type": "code",
   "execution_count": 77,
   "metadata": {},
   "outputs": [],
   "source": [
    "def querySimilarity(input_sentence, threshold=0.5):\n",
    "    # stop_words = set(stopwords.words('english'))\n",
    "    # input_sentence = \" \".join([word for word in input_sentence.split() if word.lower() not in stop_words])\n",
    "    vectorizer = TfidfVectorizer()\n",
    "    vectors1 = vectorizer.fit_transform(df1[\"query\"])\n",
    "    \n",
    "    sentence_vector = vectorizer.transform([input_sentence])\n",
    "    similarity_scores = cosine_similarity(sentence_vector, vectors1)[0]\n",
    "    \n",
    "    similar_indices = np.argwhere(similarity_scores > threshold).flatten()\n",
    "    \n",
    "    if len(similar_indices) == 0:\n",
    "        return None, None, None, None\n",
    "    \n",
    "    most_similar_index = similar_indices[np.argmax(similarity_scores[similar_indices])]\n",
    "    most_similar_context = df.loc[most_similar_index, \"context\"]\n",
    "    kb_article = df.loc[most_similar_index, \"Context Source Ids\"]\n",
    "    similarity_score = similarity_scores[most_similar_index]\n",
    "    \n",
    "    return similarity_score, most_similar_context, most_similar_index, kb_article"
   ]
  },
  {
   "cell_type": "code",
   "execution_count": 83,
   "metadata": {},
   "outputs": [
    {
     "name": "stdout",
     "output_type": "stream",
     "text": [
      "Filtered query: okta request\n",
      "kb_article: KB0043359\n",
      "Input Sentence: okta request\n",
      "Most Similar Context: Setting up Okta Verify with Push for MFA using Okta Verify ApplicationDT Systems:&nbsp;Setting up Okta Verify with Push for MFA using Okta Verify ApplicationInternal ServiceNow Only:&nbsp;DT Knowledge Base Article&nbsp;ServiceNow has Okta Verify with Push using Okta Verify Application as an option for multi-factor authentication (MFA). The main advantage of Okta Verify is that the push notification enables users to verify their identity with a single tap on their mobile device – without the need to type a six-digit code. This will also improve the mobile experience. This KB article walks through the steps needed to enable Okta Verify with Push MFA using Okta Verify Application for accessing ServiceNow corporate resources like Surf, Partner Portal, Tableau etc.Refer to the video on how to Reset Okta Verify via MyBot.&nbsp;Few important things to note:&nbsp;Setup Okta VerifyIf you want to set-up multi-factor authentication on your mobile device (Android or iOS) using Okta Verify Application, please follow the procedure mentioned. – Highly recommendedIf you want to set-up multi-factor authentication on your laptop using OTP Manager from the Self-Service Portal, please refer to KB Article&nbsp;KB0010504. – For advanced users, doesn't offer push notificationReset Okta VerifyIf you have an old device – Please refer to the KB Article KB0043360&nbsp;or search for the KB Article \\\"Reset Okta MFA\\\"If you don't have an old device – Reset Okta MFA through surf using Okta Multifactor Token RequestHI Users&nbsp;HI Service Portal requires a different login credential and MFA for authentication as it is not integrated with OKTA. If you want to set-up or reset multi-factor authentication for your HI account, please refer to KB Article KB0656473.Set up OKTA Verify with Push using Okta Verify ApplicationLog in to the Okta Portal based on your requirement:Okta Production: https://servicenow.okta.comOkta Sub Production: https://servnow.oktapreview.comOkta (External) Production: https://servicenowsignon.okta.com/login/default - For Support teams and Specific DevelopersOkta (External) Sub Production: https://servicenowext.oktapreview.com/login/default - For Support teams and Specific DevelopersClick on your name in the upper right and go to \\\"Settings\\\"Click on Edit Profile, you might need to enter your password once again.Scroll down to \\\"Extra Verification\\\" section and click \\\"Set up\\\" next to \\\"Okta Verify\\\"Click on \\\"Configure factor\\\" when you see \\\"Okta Verify\\\" in below screen.Select your device type from the list, and download and install the Okta Verify application by Okta, Inc. from your respective app store. Click next after installation successful.iOS App Store – Okta Verify for&nbsp;iOSAndroid Play Store – Okta Verify for AndroidThe next step is to set up the Okta Verify. Okta will display a QR code that you need to scan using the Okta Verify application on mobile.&nbsp;Launch the Okta Verify App on your Mobile Device and click \\\"Add Account\\\". If requested, please \\\"Allow Camera Access & Push notifications\\\".From Okta Verify application, use your phone camera to scan the QR code. Once you scan the code that's displayed in the \\\"Setup Okta Verify\\\" screen, you have successfully configured Okta Verify with Push Multifactor Authentication (MFA).Once done, you will be redirected back to the Okta Dashboard. You will see a new OTP in Okta Verify application. Identify the Okta Portal token by reading the URL on top of the token. Please close out the Okta Verify application on your phone.&nbsp;Logging in to Okta or other applications using Okta Verify with PushThe next time you navigate to Okta or try to access any app directly which requires you to do Multi-Factor Authentication, you will just need to type in the Active Directory (Laptop) credentials you normally would connect to Okta. You have two option:Option 1: Select Send Push&nbsp;to use push authentication.&nbsp;OROption 2: Select \\\"Or Enter Code\\\" to use a one-time pin. Tap the Okta Verify&nbsp;app on your mobile device and enter the one-time code into the&nbsp;Enter code&nbsp;field.&nbsp;If you select option 1: A push notification will be displayed on your mobile device. Click on the notification and tap the&nbsp;\\\"Yes, It's Me\\\" option&nbsp;on your device to approve the verification request.If you select option 2: Alternatively, you can also choose to launch the Okta Verify app and enter the code that's displayed in the Okta Verify App.&nbsp;You are signed in to your account without any further action.\\n\\n\n",
      "Similarity Score: 0.78\n"
     ]
    }
   ],
   "source": [
    "inp = TakeInput()\n",
    "threshold = 0.5\n",
    "sm1, msc1, msi1, kb1 = contextSimilarity(inp, threshold)\n",
    "sm2, msc2, msi2, kb2 = querySimilarity(inp, threshold)\n",
    "\n",
    "if sm1 is None and sm2 is None:\n",
    "    print(\"No similar context or query found above the threshold.\")\n",
    "elif sm1 is None:\n",
    "    print(f\"kb_article: {kb2}\")\n",
    "    print(f\"Input Sentence: {inp}\")\n",
    "    print(f\"Most Similar Context: {msc2}\")\n",
    "    print(f\"Similarity Score: {sm2:.2f}\")\n",
    "elif sm2 is None:\n",
    "    print(f\"kb_article: {kb1}\")\n",
    "    print(f\"Input Sentence: {inp}\")\n",
    "    print(f\"Most Similar Context: {msc1}\")\n",
    "    print(f\"Similarity Score: {sm1:.2f}\")\n",
    "else:\n",
    "    if sm1 > sm2:\n",
    "        print(f\"kb_article: {kb1}\")\n",
    "        print(f\"Input Sentence: {inp}\")\n",
    "        print(f\"Most Similar Context: {msc1}\")\n",
    "        print(f\"Similarity Score: {sm1:.2f}\")\n",
    "    elif sm1 < sm2:\n",
    "        print(f\"kb_article: {kb2}\")\n",
    "        print(f\"Input Sentence: {inp}\")\n",
    "        print(f\"Most Similar Context: {msc2}\")\n",
    "        print(f\"Similarity Score: {sm2:.2f}\")\n",
    "    else:\n",
    "        print(f\"kb_article 1: {kb1}, kb_article 2: {kb2}\")\n",
    "        print(f\"Input Sentence: {inp}\")\n",
    "        print(f\"Most Similar Context 1: {msc1}, Most Similar Context 2: {msc2}\")\n",
    "        print(f\"Similarity Score for context 1: {sm1:.2f}\")\n",
    "        print(f\"Similarity score for context 2: {sm2:.2f}\")"
   ]
  },
  {
   "cell_type": "code",
   "execution_count": null,
   "metadata": {},
   "outputs": [],
   "source": []
  },
  {
   "cell_type": "code",
   "execution_count": null,
   "metadata": {},
   "outputs": [],
   "source": []
  }
 ],
 "metadata": {
  "kernelspec": {
   "display_name": "Python 3",
   "language": "python",
   "name": "python3"
  },
  "language_info": {
   "codemirror_mode": {
    "name": "ipython",
    "version": 3
   },
   "file_extension": ".py",
   "mimetype": "text/x-python",
   "name": "python",
   "nbconvert_exporter": "python",
   "pygments_lexer": "ipython3",
   "version": "3.9.6"
  },
  "orig_nbformat": 4
 },
 "nbformat": 4,
 "nbformat_minor": 2
}
